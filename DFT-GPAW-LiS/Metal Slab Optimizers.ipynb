{
 "cells": [
  {
   "cell_type": "code",
   "execution_count": 1,
   "metadata": {},
   "outputs": [],
   "source": [
    "import numpy as np\n",
    "from ase import Atoms\n",
    "from ase.build import fcc111\n",
    "from gpaw import GPAW, PW\n",
    "from ase.optimize import BFGS\n",
    "from ase.io.trajectory import Trajectory\n"
   ]
  },
  {
   "cell_type": "code",
   "execution_count": 3,
   "metadata": {},
   "outputs": [
    {
     "name": "stdout",
     "output_type": "stream",
     "text": [
      "      Step     Time          Energy         fmax\n",
      "BFGS:    0 19:33:22      -47.010500        0.0004\n"
     ]
    },
    {
     "data": {
      "text/plain": [
       "True"
      ]
     },
     "execution_count": 3,
     "metadata": {},
     "output_type": "execute_result"
    }
   ],
   "source": [
    "#Aluminium\n",
    "a = 4.05\n",
    "slab = fcc111('Al', (4, 4, 1), a=a, vacuum=10.0)\n",
    "\n",
    "calc = GPAW(mode=PW(400),\n",
    "            xc='PBE',\n",
    "            kpts=(8, 8, 1),\n",
    "            parallel={'band': 1},\n",
    "            txt='Al_gs.txt')\n",
    "slab.set_calculator(calc)\n",
    "from ase.optimize import BFGS\n",
    "opt = BFGS(slab, trajectory='Al_opt.traj')\n",
    "opt.run(fmax=0.05)"
   ]
  },
  {
   "cell_type": "code",
   "execution_count": 4,
   "metadata": {},
   "outputs": [
    {
     "name": "stdout",
     "output_type": "stream",
     "text": [
      "      Step     Time          Energy         fmax\n",
      "BFGS:    0 20:37:17      -80.066512        0.0000\n"
     ]
    },
    {
     "data": {
      "text/plain": [
       "True"
      ]
     },
     "execution_count": 4,
     "metadata": {},
     "output_type": "execute_result"
    }
   ],
   "source": [
    "#Platinum\n",
    "a = 4.05\n",
    "slab = fcc111('Pt', (4, 4, 1), a=a, vacuum=10.0)\n",
    "\n",
    "calc = GPAW(mode=PW(400),\n",
    "            xc='PBE',\n",
    "            kpts=(8, 8, 1),\n",
    "            parallel={'band': 1},\n",
    "            txt='Pt_gs.txt2')\n",
    "slab.set_calculator(calc)\n",
    "from ase.optimize import BFGS\n",
    "opt = BFGS(slab, trajectory='Pt_opt.traj2')\n",
    "opt.run(fmax=0.05)"
   ]
  },
  {
   "cell_type": "code",
   "execution_count": 5,
   "metadata": {},
   "outputs": [
    {
     "name": "stdout",
     "output_type": "stream",
     "text": [
      "      Step     Time          Energy         fmax\n",
      "BFGS:    0 21:35:34      -37.659305        0.0003\n"
     ]
    },
    {
     "data": {
      "text/plain": [
       "True"
      ]
     },
     "execution_count": 5,
     "metadata": {},
     "output_type": "execute_result"
    }
   ],
   "source": [
    "a = 2.95\n",
    "slab = fcc111('Ti', (4, 4, 1), a=a, vacuum=10.0)\n",
    "\n",
    "calc = GPAW(mode=PW(400),\n",
    "            xc='PBE',\n",
    "            kpts=(8, 8, 1),\n",
    "            parallel={'band': 1},\n",
    "            txt='Ti_gs.txt2')\n",
    "slab.set_calculator(calc)\n",
    "from ase.optimize import BFGS\n",
    "opt = BFGS(slab, trajectory='Ti_opt.traj2')\n",
    "opt.run(fmax=0.05)"
   ]
  }
 ],
 "metadata": {
  "kernelspec": {
   "display_name": "Python 3",
   "language": "python",
   "name": "python3"
  },
  "language_info": {
   "codemirror_mode": {
    "name": "ipython",
    "version": 3
   },
   "file_extension": ".py",
   "mimetype": "text/x-python",
   "name": "python",
   "nbconvert_exporter": "python",
   "pygments_lexer": "ipython3",
   "version": "3.10.6"
  },
  "orig_nbformat": 4,
  "vscode": {
   "interpreter": {
    "hash": "916dbcbb3f70747c44a77c7bcd40155683ae19c65e1c03b4aa3499c5328201f1"
   }
  }
 },
 "nbformat": 4,
 "nbformat_minor": 2
}
