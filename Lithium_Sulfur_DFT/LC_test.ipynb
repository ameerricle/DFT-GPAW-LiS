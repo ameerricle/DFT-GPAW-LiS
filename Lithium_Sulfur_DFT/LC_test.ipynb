{
 "cells": [
  {
   "cell_type": "code",
   "execution_count": 35,
   "metadata": {},
   "outputs": [
    {
     "name": "stdout",
     "output_type": "stream",
     "text": [
      "      Step     Time          Energy         fmax\n",
      "BFGS:    0 14:07:39      -25.635095        0.0000\n",
      "Cell([3.92, 3.92, 3.92])\n",
      "Cell([3.92, 3.92, 3.92])\n"
     ]
    }
   ],
   "source": [
    "from ase.optimize import BFGS\n",
    "from ase.constraints import StrainFilter\n",
    "from gpaw import GPAW, PW\n",
    "from ase.build import bulk\n",
    "\n",
    "atoms = bulk('Pt','fcc', cubic = True)\n",
    "calc = GPAW(mode=PW(600),xc='PBE',kpts=(4,4,4),txt='Pt.out')\n",
    "atoms.calc = calc\n",
    "sf = StrainFilter(atoms)\n",
    "opt = BFGS(atoms)\n",
    "opt.run(0.01)\n",
    "opt2 = BFGS(sf)\n",
    "print(atoms.get_cell())\n",
    "print(sf.get_cell())"
   ]
  },
  {
   "cell_type": "code",
   "execution_count": null,
   "metadata": {},
   "outputs": [],
   "source": [
    "from ase.optimize import BFGS\n",
    "from ase.constraints import StrainFilter\n",
    "from ase.calculators.emt import EMT\n",
    "from gpaw import GPAW, PW\n",
    "from ase.build import bulk\n",
    "from ase.visualize import view\n",
    "from ase.io import Trajectory, read \n",
    "\n",
    "atoms = bulk('Na','bcc',cubic = True)\n",
    "calc = GPAW(mode=PW(400),xc='PBE',kpts=(4, 4, 4),txt='Na.out')\n",
    "atoms.calc = calc\n",
    "\n",
    "sf = StrainFilter(atoms)\n",
    "opt = BFGS(sf)\n",
    "traj = Trajectory('Na.traj', 'w', atoms)\n",
    "opt.attach(traj)\n",
    "opt.run(0.025)\n",
    "\n",
    "print(atoms.get_cell())\n",
    "view(atoms)\n",
    "#view(traj)"
   ]
  },
  {
   "cell_type": "code",
   "execution_count": 44,
   "metadata": {},
   "outputs": [
    {
     "data": {
      "text/plain": [
       "<Popen: returncode: None args: ['/bin/python3', '-m', 'ase', 'gui', '-']>"
      ]
     },
     "execution_count": 44,
     "metadata": {},
     "output_type": "execute_result"
    }
   ],
   "source": [
    "from ase.io import read\n",
    "traj = read('Ag.traj')\n",
    "view(traj)"
   ]
  },
  {
   "cell_type": "code",
   "execution_count": 48,
   "metadata": {},
   "outputs": [
    {
     "name": "stdout",
     "output_type": "stream",
     "text": [
      "      Step     Time          Energy         fmax\n",
      "BFGS:    0 14:43:38      -14.761854        0.0751\n",
      "BFGS:    1 14:43:41      -14.761912        0.0319\n",
      "BFGS:    2 14:43:43      -14.761907        0.0001\n",
      "Cell([[4.048239470424314, 1.195637746432725e-18, 0.0], [1.195637746432725e-18, 4.048239470424314, 0.0], [0.0, 0.0, 4.048239470424314]])\n"
     ]
    },
    {
     "data": {
      "text/plain": [
       "<Popen: returncode: None args: ['/bin/python3', '-m', 'ase', 'gui', '-']>"
      ]
     },
     "execution_count": 48,
     "metadata": {},
     "output_type": "execute_result"
    }
   ],
   "source": [
    "from ase.optimize import BFGS\n",
    "from ase.constraints import StrainFilter\n",
    "from gpaw import GPAW, PW\n",
    "from ase.build import bulk\n",
    "from ase.visualize import view\n",
    "from ase.io import Trajectory, read \n",
    "\n",
    "atoms = bulk('Al','fcc',cubic = True)\n",
    "calc = GPAW(mode=PW(400),xc='PBE',kpts=(4, 4, 4),txt='Al.out')\n",
    "atoms.calc = calc\n",
    "\n",
    "sf = StrainFilter(atoms)\n",
    "opt = BFGS(sf)\n",
    "traj = Trajectory('Al.traj', 'w', atoms)\n",
    "opt.attach(traj)\n",
    "opt.run(0.025)\n",
    "\n",
    "print(atoms.get_cell())\n",
    "view(atoms)"
   ]
  },
  {
   "cell_type": "code",
   "execution_count": 22,
   "metadata": {},
   "outputs": [
    {
     "data": {
      "text/plain": [
       "<Popen: returncode: None args: ['/bin/python3', '-m', 'ase', 'gui', '-']>"
      ]
     },
     "execution_count": 22,
     "metadata": {},
     "output_type": "execute_result"
    }
   ],
   "source": [
    "from ase.visualize import view\n",
    "from ase.io import read\n",
    "# load the xyz file\n",
    "atoms = read('Li2S4_optimized.xyz')\n",
    "\n",
    "# visualize the structure\n",
    "view(atoms)\n"
   ]
  },
  {
   "cell_type": "code",
   "execution_count": null,
   "metadata": {},
   "outputs": [],
   "source": [
    "from ase.optimize import BFGS\n",
    "from ase.constraints import StrainFilter\n",
    "from gpaw import GPAW, PW\n",
    "ni = bulk('Ni', 'hcp', a = 2.4, c = 4.0)\n",
    "calc = GPAW(mode=PW(200),xc='LDA',txt='Ni_hcp.out')\n",
    "ni.calc = calc\n",
    "sf = StrainFilter(ni)\n",
    "opt = BFGS(sf)\n",
    "opt.run(0.005)\n",
    "print(sf.get_cell())"
   ]
  }
 ],
 "metadata": {
  "kernelspec": {
   "display_name": "Python 3",
   "language": "python",
   "name": "python3"
  },
  "language_info": {
   "codemirror_mode": {
    "name": "ipython",
    "version": 3
   },
   "file_extension": ".py",
   "mimetype": "text/x-python",
   "name": "python",
   "nbconvert_exporter": "python",
   "pygments_lexer": "ipython3",
   "version": "3.10.6"
  },
  "orig_nbformat": 4,
  "vscode": {
   "interpreter": {
    "hash": "916dbcbb3f70747c44a77c7bcd40155683ae19c65e1c03b4aa3499c5328201f1"
   }
  }
 },
 "nbformat": 4,
 "nbformat_minor": 2
}
